{
 "cells": [
  {
   "cell_type": "markdown",
   "metadata": {},
   "source": [
    "아직 정리가 되지 않은 코드입니다. "
   ]
  },
  {
   "cell_type": "code",
   "execution_count": 5,
   "metadata": {
    "collapsed": true
   },
   "outputs": [],
   "source": [
    "from sklearn.datasets import load_iris"
   ]
  },
  {
   "cell_type": "code",
   "execution_count": 14,
   "metadata": {
    "collapsed": true
   },
   "outputs": [],
   "source": [
    "from sklearn.neighbors import KNeighborsClassifier"
   ]
  },
  {
   "cell_type": "code",
   "execution_count": 18,
   "metadata": {
    "collapsed": true
   },
   "outputs": [],
   "source": [
    "knn = KNeighborsClassifier(n_neighbors=5)"
   ]
  },
  {
   "cell_type": "code",
   "execution_count": 16,
   "metadata": {},
   "outputs": [
    {
     "data": {
      "text/plain": [
       "KNeighborsClassifier(algorithm='auto', leaf_size=30, metric='minkowski',\n",
       "           metric_params=None, n_jobs=1, n_neighbors=5, p=2,\n",
       "           weights='uniform')"
      ]
     },
     "execution_count": 16,
     "metadata": {},
     "output_type": "execute_result"
    }
   ],
   "source": [
    "knn.fit(load_iris().data, load_iris().target)"
   ]
  },
  {
   "cell_type": "code",
   "execution_count": 17,
   "metadata": {},
   "outputs": [
    {
     "data": {
      "text/plain": [
       "array([1])"
      ]
     },
     "execution_count": 17,
     "metadata": {},
     "output_type": "execute_result"
    }
   ],
   "source": [
    "knn.predict([[3,3,3,3]])"
   ]
  },
  {
   "cell_type": "code",
   "execution_count": 19,
   "metadata": {
    "collapsed": true
   },
   "outputs": [],
   "source": [
    "import pandas as pd"
   ]
  },
  {
   "cell_type": "code",
   "execution_count": 24,
   "metadata": {},
   "outputs": [],
   "source": [
    "df = pd.DataFrame(load_iris().data, columns = load_iris().feature_names)"
   ]
  },
  {
   "cell_type": "code",
   "execution_count": 109,
   "metadata": {},
   "outputs": [
    {
     "data": {
      "text/html": [
       "<div>\n",
       "<style>\n",
       "    .dataframe thead tr:only-child th {\n",
       "        text-align: right;\n",
       "    }\n",
       "\n",
       "    .dataframe thead th {\n",
       "        text-align: left;\n",
       "    }\n",
       "\n",
       "    .dataframe tbody tr th {\n",
       "        vertical-align: top;\n",
       "    }\n",
       "</style>\n",
       "<table border=\"1\" class=\"dataframe\">\n",
       "  <thead>\n",
       "    <tr style=\"text-align: right;\">\n",
       "      <th></th>\n",
       "      <th>sepal length (cm)</th>\n",
       "      <th>sepal width (cm)</th>\n",
       "      <th>petal length (cm)</th>\n",
       "      <th>petal width (cm)</th>\n",
       "    </tr>\n",
       "  </thead>\n",
       "  <tbody>\n",
       "    <tr>\n",
       "      <th>0</th>\n",
       "      <td>5.1</td>\n",
       "      <td>3.5</td>\n",
       "      <td>1.4</td>\n",
       "      <td>0.2</td>\n",
       "    </tr>\n",
       "    <tr>\n",
       "      <th>1</th>\n",
       "      <td>4.9</td>\n",
       "      <td>3.0</td>\n",
       "      <td>1.4</td>\n",
       "      <td>0.2</td>\n",
       "    </tr>\n",
       "    <tr>\n",
       "      <th>2</th>\n",
       "      <td>4.7</td>\n",
       "      <td>3.2</td>\n",
       "      <td>1.3</td>\n",
       "      <td>0.2</td>\n",
       "    </tr>\n",
       "    <tr>\n",
       "      <th>3</th>\n",
       "      <td>4.6</td>\n",
       "      <td>3.1</td>\n",
       "      <td>1.5</td>\n",
       "      <td>0.2</td>\n",
       "    </tr>\n",
       "    <tr>\n",
       "      <th>4</th>\n",
       "      <td>5.0</td>\n",
       "      <td>3.6</td>\n",
       "      <td>1.4</td>\n",
       "      <td>0.2</td>\n",
       "    </tr>\n",
       "  </tbody>\n",
       "</table>\n",
       "</div>"
      ],
      "text/plain": [
       "   sepal length (cm)  sepal width (cm)  petal length (cm)  petal width (cm)\n",
       "0                5.1               3.5                1.4               0.2\n",
       "1                4.9               3.0                1.4               0.2\n",
       "2                4.7               3.2                1.3               0.2\n",
       "3                4.6               3.1                1.5               0.2\n",
       "4                5.0               3.6                1.4               0.2"
      ]
     },
     "execution_count": 109,
     "metadata": {},
     "output_type": "execute_result"
    }
   ],
   "source": [
    "df.head()"
   ]
  },
  {
   "cell_type": "code",
   "execution_count": 27,
   "metadata": {},
   "outputs": [
    {
     "name": "stdout",
     "output_type": "stream",
     "text": [
      "<class 'pandas.core.frame.DataFrame'>\n",
      "RangeIndex: 150 entries, 0 to 149\n",
      "Data columns (total 4 columns):\n",
      "sepal length (cm)    150 non-null float64\n",
      "sepal width (cm)     150 non-null float64\n",
      "petal length (cm)    150 non-null float64\n",
      "petal width (cm)     150 non-null float64\n",
      "dtypes: float64(4)\n",
      "memory usage: 4.8 KB\n"
     ]
    }
   ],
   "source": [
    "df.info()"
   ]
  },
  {
   "cell_type": "code",
   "execution_count": 28,
   "metadata": {},
   "outputs": [
    {
     "data": {
      "text/plain": [
       "sepal length (cm)    0.314911\n",
       "sepal width (cm)     0.334053\n",
       "petal length (cm)   -0.274464\n",
       "petal width (cm)    -0.104997\n",
       "dtype: float64"
      ]
     },
     "execution_count": 28,
     "metadata": {},
     "output_type": "execute_result"
    }
   ],
   "source": [
    "df.skew()"
   ]
  },
  {
   "cell_type": "code",
   "execution_count": 29,
   "metadata": {},
   "outputs": [
    {
     "data": {
      "text/plain": [
       "sepal length (cm)   -0.552064\n",
       "sepal width (cm)     0.290781\n",
       "petal length (cm)   -1.401921\n",
       "petal width (cm)    -1.339754\n",
       "dtype: float64"
      ]
     },
     "execution_count": 29,
     "metadata": {},
     "output_type": "execute_result"
    }
   ],
   "source": [
    "df.kurtosis()"
   ]
  },
  {
   "cell_type": "code",
   "execution_count": 30,
   "metadata": {},
   "outputs": [
    {
     "data": {
      "text/html": [
       "<div>\n",
       "<style>\n",
       "    .dataframe thead tr:only-child th {\n",
       "        text-align: right;\n",
       "    }\n",
       "\n",
       "    .dataframe thead th {\n",
       "        text-align: left;\n",
       "    }\n",
       "\n",
       "    .dataframe tbody tr th {\n",
       "        vertical-align: top;\n",
       "    }\n",
       "</style>\n",
       "<table border=\"1\" class=\"dataframe\">\n",
       "  <thead>\n",
       "    <tr style=\"text-align: right;\">\n",
       "      <th></th>\n",
       "      <th>sepal length (cm)</th>\n",
       "      <th>sepal width (cm)</th>\n",
       "      <th>petal length (cm)</th>\n",
       "      <th>petal width (cm)</th>\n",
       "    </tr>\n",
       "  </thead>\n",
       "  <tbody>\n",
       "    <tr>\n",
       "      <th>sepal length (cm)</th>\n",
       "      <td>0.685694</td>\n",
       "      <td>-0.039268</td>\n",
       "      <td>1.273682</td>\n",
       "      <td>0.516904</td>\n",
       "    </tr>\n",
       "    <tr>\n",
       "      <th>sepal width (cm)</th>\n",
       "      <td>-0.039268</td>\n",
       "      <td>0.188004</td>\n",
       "      <td>-0.321713</td>\n",
       "      <td>-0.117981</td>\n",
       "    </tr>\n",
       "    <tr>\n",
       "      <th>petal length (cm)</th>\n",
       "      <td>1.273682</td>\n",
       "      <td>-0.321713</td>\n",
       "      <td>3.113179</td>\n",
       "      <td>1.296387</td>\n",
       "    </tr>\n",
       "    <tr>\n",
       "      <th>petal width (cm)</th>\n",
       "      <td>0.516904</td>\n",
       "      <td>-0.117981</td>\n",
       "      <td>1.296387</td>\n",
       "      <td>0.582414</td>\n",
       "    </tr>\n",
       "  </tbody>\n",
       "</table>\n",
       "</div>"
      ],
      "text/plain": [
       "                   sepal length (cm)  sepal width (cm)  petal length (cm)  \\\n",
       "sepal length (cm)           0.685694         -0.039268           1.273682   \n",
       "sepal width (cm)           -0.039268          0.188004          -0.321713   \n",
       "petal length (cm)           1.273682         -0.321713           3.113179   \n",
       "petal width (cm)            0.516904         -0.117981           1.296387   \n",
       "\n",
       "                   petal width (cm)  \n",
       "sepal length (cm)          0.516904  \n",
       "sepal width (cm)          -0.117981  \n",
       "petal length (cm)          1.296387  \n",
       "petal width (cm)           0.582414  "
      ]
     },
     "execution_count": 30,
     "metadata": {},
     "output_type": "execute_result"
    }
   ],
   "source": [
    "df.cov()"
   ]
  },
  {
   "cell_type": "code",
   "execution_count": 31,
   "metadata": {},
   "outputs": [
    {
     "data": {
      "text/html": [
       "<div>\n",
       "<style>\n",
       "    .dataframe thead tr:only-child th {\n",
       "        text-align: right;\n",
       "    }\n",
       "\n",
       "    .dataframe thead th {\n",
       "        text-align: left;\n",
       "    }\n",
       "\n",
       "    .dataframe tbody tr th {\n",
       "        vertical-align: top;\n",
       "    }\n",
       "</style>\n",
       "<table border=\"1\" class=\"dataframe\">\n",
       "  <thead>\n",
       "    <tr style=\"text-align: right;\">\n",
       "      <th></th>\n",
       "      <th>sepal length (cm)</th>\n",
       "      <th>sepal width (cm)</th>\n",
       "      <th>petal length (cm)</th>\n",
       "      <th>petal width (cm)</th>\n",
       "    </tr>\n",
       "  </thead>\n",
       "  <tbody>\n",
       "    <tr>\n",
       "      <th>sepal length (cm)</th>\n",
       "      <td>1.000000</td>\n",
       "      <td>-0.109369</td>\n",
       "      <td>0.871754</td>\n",
       "      <td>0.817954</td>\n",
       "    </tr>\n",
       "    <tr>\n",
       "      <th>sepal width (cm)</th>\n",
       "      <td>-0.109369</td>\n",
       "      <td>1.000000</td>\n",
       "      <td>-0.420516</td>\n",
       "      <td>-0.356544</td>\n",
       "    </tr>\n",
       "    <tr>\n",
       "      <th>petal length (cm)</th>\n",
       "      <td>0.871754</td>\n",
       "      <td>-0.420516</td>\n",
       "      <td>1.000000</td>\n",
       "      <td>0.962757</td>\n",
       "    </tr>\n",
       "    <tr>\n",
       "      <th>petal width (cm)</th>\n",
       "      <td>0.817954</td>\n",
       "      <td>-0.356544</td>\n",
       "      <td>0.962757</td>\n",
       "      <td>1.000000</td>\n",
       "    </tr>\n",
       "  </tbody>\n",
       "</table>\n",
       "</div>"
      ],
      "text/plain": [
       "                   sepal length (cm)  sepal width (cm)  petal length (cm)  \\\n",
       "sepal length (cm)           1.000000         -0.109369           0.871754   \n",
       "sepal width (cm)           -0.109369          1.000000          -0.420516   \n",
       "petal length (cm)           0.871754         -0.420516           1.000000   \n",
       "petal width (cm)            0.817954         -0.356544           0.962757   \n",
       "\n",
       "                   petal width (cm)  \n",
       "sepal length (cm)          0.817954  \n",
       "sepal width (cm)          -0.356544  \n",
       "petal length (cm)          0.962757  \n",
       "petal width (cm)           1.000000  "
      ]
     },
     "execution_count": 31,
     "metadata": {},
     "output_type": "execute_result"
    }
   ],
   "source": [
    "df.corr()"
   ]
  },
  {
   "cell_type": "code",
   "execution_count": 36,
   "metadata": {
    "collapsed": true
   },
   "outputs": [],
   "source": [
    "%matplotlib inline"
   ]
  },
  {
   "cell_type": "code",
   "execution_count": 37,
   "metadata": {},
   "outputs": [
    {
     "data": {
      "text/plain": [
       "array([[<matplotlib.axes._subplots.AxesSubplot object at 0x000000000DD16BA8>,\n",
       "        <matplotlib.axes._subplots.AxesSubplot object at 0x000000000DF30160>],\n",
       "       [<matplotlib.axes._subplots.AxesSubplot object at 0x000000000DEC46D8>,\n",
       "        <matplotlib.axes._subplots.AxesSubplot object at 0x000000000DFE6D30>]], dtype=object)"
      ]
     },
     "execution_count": 37,
     "metadata": {},
     "output_type": "execute_result"
    },
    {
     "data": {
      "image/png": "[encoded data removed]",
      "text/plain": [
       "<matplotlib.figure.Figure at 0xd7bf668>"
      ]
     },
     "metadata": {},
     "output_type": "display_data"
    }
   ],
   "source": [
    "df.hist()"
   ]
  },
  {
   "cell_type": "code",
   "execution_count": 38,
   "metadata": {
    "collapsed": true
   },
   "outputs": [],
   "source": [
    "from pandas.plotting import scatter_matrix"
   ]
  },
  {
   "cell_type": "code",
   "execution_count": 39,
   "metadata": {
    "scrolled": false
   },
   "outputs": [
    {
     "data": {
      "text/plain": [
       "array([[<matplotlib.axes._subplots.AxesSubplot object at 0x000000000E163898>,\n",
       "        <matplotlib.axes._subplots.AxesSubplot object at 0x000000000E1FD358>,\n",
       "        <matplotlib.axes._subplots.AxesSubplot object at 0x000000000E20F2E8>,\n",
       "        <matplotlib.axes._subplots.AxesSubplot object at 0x000000000E284470>],\n",
       "       [<matplotlib.axes._subplots.AxesSubplot object at 0x000000000E292400>,\n",
       "        <matplotlib.axes._subplots.AxesSubplot object at 0x000000000E292470>,\n",
       "        <matplotlib.axes._subplots.AxesSubplot object at 0x000000000E39FC88>,\n",
       "        <matplotlib.axes._subplots.AxesSubplot object at 0x000000000E41D320>],\n",
       "       [<matplotlib.axes._subplots.AxesSubplot object at 0x000000000E47D6A0>,\n",
       "        <matplotlib.axes._subplots.AxesSubplot object at 0x000000000E4FA358>,\n",
       "        <matplotlib.axes._subplots.AxesSubplot object at 0x000000000E556C88>,\n",
       "        <matplotlib.axes._subplots.AxesSubplot object at 0x000000000E59A0B8>],\n",
       "       [<matplotlib.axes._subplots.AxesSubplot object at 0x000000000E6255F8>,\n",
       "        <matplotlib.axes._subplots.AxesSubplot object at 0x000000000E636C50>,\n",
       "        <matplotlib.axes._subplots.AxesSubplot object at 0x000000000E6F4438>,\n",
       "        <matplotlib.axes._subplots.AxesSubplot object at 0x000000000E746B00>]], dtype=object)"
      ]
     },
     "execution_count": 39,
     "metadata": {},
     "output_type": "execute_result"
    },
    {
     "data": {
      "image/png": "[encoded data removed]",
      "text/plain": [
       "<matplotlib.figure.Figure at 0xe1b4dd8>"
      ]
     },
     "metadata": {},
     "output_type": "display_data"
    }
   ],
   "source": [
    "scatter_matrix(df)"
   ]
  },
  {
   "cell_type": "code",
   "execution_count": 40,
   "metadata": {
    "collapsed": true
   },
   "outputs": [],
   "source": [
    "import seaborn as sns"
   ]
  },
  {
   "cell_type": "code",
   "execution_count": 110,
   "metadata": {},
   "outputs": [
    {
     "data": {
      "text/plain": [
       "<seaborn.axisgrid.PairGrid at 0x11f97550>"
      ]
     },
     "execution_count": 110,
     "metadata": {},
     "output_type": "execute_result"
    },
    {
     "data": {
      "image/png": "[encoded data removed]",
      "text/plain": [
       "<matplotlib.figure.Figure at 0x11f97c88>"
      ]
     },
     "metadata": {},
     "output_type": "display_data"
    }
   ],
   "source": [
    "sns.pairplot(df)"
   ]
  },
  {
   "cell_type": "code",
   "execution_count": 46,
   "metadata": {
    "collapsed": true
   },
   "outputs": [],
   "source": [
    "from sklearn.model_selection import train_test_split"
   ]
  },
  {
   "cell_type": "code",
   "execution_count": 51,
   "metadata": {},
   "outputs": [],
   "source": [
    "X_train, X_test, y_train, y_test = train_test_split(load_iris().data, load_iris().target,test_size=4)"
   ]
  },
  {
   "cell_type": "code",
   "execution_count": 113,
   "metadata": {},
   "outputs": [
    {
     "name": "stdout",
     "output_type": "stream",
     "text": [
      "[[ 5.6  3.   4.1  1.3]\n",
      " [ 5.5  4.2  1.4  0.2]\n",
      " [ 4.5  2.3  1.3  0.3]\n",
      " [ 6.2  3.4  5.4  2.3]\n",
      " [ 4.9  3.   1.4  0.2]\n",
      " [ 5.2  3.5  1.5  0.2]\n",
      " [ 6.1  2.9  4.7  1.4]\n",
      " [ 5.1  2.5  3.   1.1]\n",
      " [ 5.4  3.4  1.5  0.4]\n",
      " [ 5.6  3.   4.5  1.5]\n",
      " [ 6.7  3.1  4.4  1.4]\n",
      " [ 4.9  2.4  3.3  1. ]\n",
      " [ 7.7  2.6  6.9  2.3]\n",
      " [ 5.9  3.2  4.8  1.8]\n",
      " [ 6.3  2.5  5.   1.9]\n",
      " [ 5.   3.5  1.3  0.3]\n",
      " [ 5.4  3.7  1.5  0.2]\n",
      " [ 4.9  3.1  1.5  0.1]\n",
      " [ 6.3  2.8  5.1  1.5]\n",
      " [ 6.3  2.5  4.9  1.5]\n",
      " [ 6.9  3.1  5.1  2.3]\n",
      " [ 5.5  2.5  4.   1.3]\n",
      " [ 4.8  3.   1.4  0.1]\n",
      " [ 5.5  3.5  1.3  0.2]\n",
      " [ 5.4  3.4  1.7  0.2]\n",
      " [ 5.4  3.   4.5  1.5]\n",
      " [ 6.2  2.8  4.8  1.8]\n",
      " [ 5.7  2.6  3.5  1. ]\n",
      " [ 6.7  3.3  5.7  2.5]\n",
      " [ 4.9  3.1  1.5  0.1]\n",
      " [ 5.   3.2  1.2  0.2]\n",
      " [ 5.1  3.5  1.4  0.2]\n",
      " [ 5.8  4.   1.2  0.2]\n",
      " [ 4.6  3.1  1.5  0.2]\n",
      " [ 5.1  3.8  1.9  0.4]\n",
      " [ 4.8  3.1  1.6  0.2]\n",
      " [ 6.9  3.1  4.9  1.5]\n",
      " [ 5.5  2.6  4.4  1.2]\n",
      " [ 6.5  3.2  5.1  2. ]\n",
      " [ 6.8  3.2  5.9  2.3]\n",
      " [ 5.5  2.4  3.8  1.1]\n",
      " [ 6.3  3.3  6.   2.5]\n",
      " [ 6.3  2.9  5.6  1.8]\n",
      " [ 7.2  3.2  6.   1.8]\n",
      " [ 4.6  3.2  1.4  0.2]\n",
      " [ 5.8  2.7  3.9  1.2]\n",
      " [ 5.4  3.9  1.7  0.4]\n",
      " [ 5.8  2.8  5.1  2.4]\n",
      " [ 4.4  3.2  1.3  0.2]\n",
      " [ 7.9  3.8  6.4  2. ]\n",
      " [ 6.4  2.7  5.3  1.9]\n",
      " [ 4.3  3.   1.1  0.1]\n",
      " [ 6.1  2.6  5.6  1.4]\n",
      " [ 6.8  3.   5.5  2.1]\n",
      " [ 6.4  2.8  5.6  2.2]\n",
      " [ 4.9  2.5  4.5  1.7]\n",
      " [ 5.7  3.   4.2  1.2]\n",
      " [ 7.6  3.   6.6  2.1]\n",
      " [ 5.1  3.7  1.5  0.4]\n",
      " [ 5.7  2.8  4.5  1.3]\n",
      " [ 4.4  2.9  1.4  0.2]\n",
      " [ 6.1  2.8  4.7  1.2]\n",
      " [ 5.   2.3  3.3  1. ]\n",
      " [ 5.   3.4  1.6  0.4]\n",
      " [ 5.5  2.4  3.7  1. ]\n",
      " [ 6.7  3.3  5.7  2.1]\n",
      " [ 5.8  2.7  5.1  1.9]\n",
      " [ 7.2  3.   5.8  1.6]\n",
      " [ 5.7  4.4  1.5  0.4]\n",
      " [ 5.2  4.1  1.5  0.1]\n",
      " [ 6.2  2.9  4.3  1.3]\n",
      " [ 5.1  3.8  1.5  0.3]\n",
      " [ 5.6  2.7  4.2  1.3]\n",
      " [ 6.7  3.   5.2  2.3]\n",
      " [ 6.8  2.8  4.8  1.4]\n",
      " [ 6.4  2.8  5.6  2.1]\n",
      " [ 7.7  3.   6.1  2.3]\n",
      " [ 7.1  3.   5.9  2.1]\n",
      " [ 6.1  3.   4.9  1.8]\n",
      " [ 6.7  3.1  4.7  1.5]\n",
      " [ 5.9  3.   4.2  1.5]\n",
      " [ 6.3  2.3  4.4  1.3]\n",
      " [ 6.2  2.2  4.5  1.5]\n",
      " [ 4.4  3.   1.3  0.2]\n",
      " [ 5.7  2.5  5.   2. ]\n",
      " [ 4.8  3.   1.4  0.3]\n",
      " [ 5.5  2.3  4.   1.3]\n",
      " [ 6.6  2.9  4.6  1.3]\n",
      " [ 6.3  3.3  4.7  1.6]\n",
      " [ 6.4  3.2  5.3  2.3]\n",
      " [ 6.5  3.   5.2  2. ]\n",
      " [ 6.5  3.   5.5  1.8]\n",
      " [ 5.8  2.7  4.1  1. ]\n",
      " [ 6.   3.   4.8  1.8]\n",
      " [ 5.   3.5  1.6  0.6]\n",
      " [ 6.   2.7  5.1  1.6]\n",
      " [ 5.   3.6  1.4  0.2]\n",
      " [ 5.   3.3  1.4  0.2]\n",
      " [ 4.7  3.2  1.3  0.2]\n",
      " [ 6.7  3.1  5.6  2.4]\n",
      " [ 7.   3.2  4.7  1.4]\n",
      " [ 5.2  3.4  1.4  0.2]\n",
      " [ 5.6  2.9  3.6  1.3]\n",
      " [ 6.3  3.4  5.6  2.4]\n",
      " [ 5.7  2.9  4.2  1.3]\n",
      " [ 6.5  3.   5.8  2.2]\n",
      " [ 5.8  2.7  5.1  1.9]\n",
      " [ 4.7  3.2  1.6  0.2]\n",
      " [ 5.   2.   3.5  1. ]\n",
      " [ 6.7  3.   5.   1.7]\n",
      " [ 6.   3.4  4.5  1.6]\n",
      " [ 5.2  2.7  3.9  1.4]\n",
      " [ 6.4  2.9  4.3  1.3]\n",
      " [ 5.   3.   1.6  0.2]\n",
      " [ 6.4  3.2  4.5  1.5]\n",
      " [ 4.8  3.4  1.9  0.2]\n",
      " [ 5.6  2.5  3.9  1.1]\n",
      " [ 6.   2.2  5.   1.5]\n",
      " [ 5.1  3.3  1.7  0.5]\n",
      " [ 5.6  2.8  4.9  2. ]\n",
      " [ 6.   2.9  4.5  1.5]\n",
      " [ 6.7  2.5  5.8  1.8]\n",
      " [ 6.1  2.8  4.   1.3]\n",
      " [ 5.8  2.6  4.   1.2]\n",
      " [ 4.6  3.6  1.   0.2]\n",
      " [ 5.7  2.8  4.1  1.3]\n",
      " [ 6.1  3.   4.6  1.4]\n",
      " [ 4.8  3.4  1.6  0.2]\n",
      " [ 5.3  3.7  1.5  0.2]\n",
      " [ 7.3  2.9  6.3  1.8]\n",
      " [ 4.9  3.1  1.5  0.1]\n",
      " [ 6.5  2.8  4.6  1.5]\n",
      " [ 6.9  3.1  5.4  2.1]\n",
      " [ 7.7  2.8  6.7  2. ]\n",
      " [ 5.7  3.8  1.7  0.3]\n",
      " [ 4.6  3.4  1.4  0.3]\n",
      " [ 6.6  3.   4.4  1.4]\n",
      " [ 5.4  3.9  1.3  0.4]\n",
      " [ 5.9  3.   5.1  1.8]\n",
      " [ 6.4  3.1  5.5  1.8]\n",
      " [ 6.9  3.2  5.7  2.3]\n",
      " [ 7.7  3.8  6.7  2.2]\n",
      " [ 7.4  2.8  6.1  1.9]\n",
      " [ 6.   2.2  4.   1. ]\n",
      " [ 6.3  2.7  4.9  1.8]\n",
      " [ 5.1  3.5  1.4  0.3]]\n"
     ]
    }
   ],
   "source": [
    "print(X_train)"
   ]
  },
  {
   "cell_type": "code",
   "execution_count": 112,
   "metadata": {},
   "outputs": [
    {
     "data": {
      "text/plain": [
       "KNeighborsClassifier(algorithm='auto', leaf_size=30, metric='minkowski',\n",
       "           metric_params=None, n_jobs=1, n_neighbors=5, p=2,\n",
       "           weights='uniform')"
      ]
     },
     "execution_count": 112,
     "metadata": {},
     "output_type": "execute_result"
    }
   ],
   "source": [
    "knn.fit(X_train, y_train)"
   ]
  },
  {
   "cell_type": "code",
   "execution_count": 56,
   "metadata": {
    "collapsed": true
   },
   "outputs": [],
   "source": [
    "predict = knn.predict(X_test)"
   ]
  },
  {
   "cell_type": "code",
   "execution_count": 57,
   "metadata": {
    "collapsed": true
   },
   "outputs": [],
   "source": [
    "from sklearn.metrics import classification_report\n",
    "report = classification_report(y_test, predict)"
   ]
  },
  {
   "cell_type": "code",
   "execution_count": 58,
   "metadata": {},
   "outputs": [
    {
     "name": "stdout",
     "output_type": "stream",
     "text": [
      "             precision    recall  f1-score   support\n",
      "\n",
      "          0       1.00      1.00      1.00         3\n",
      "          2       1.00      1.00      1.00         1\n",
      "\n",
      "avg / total       1.00      1.00      1.00         4\n",
      "\n"
     ]
    }
   ],
   "source": [
    "print(report)"
   ]
  },
  {
   "cell_type": "code",
   "execution_count": 59,
   "metadata": {
    "collapsed": true
   },
   "outputs": [],
   "source": [
    "from sklearn.metrics import accuracy_score"
   ]
  },
  {
   "cell_type": "code",
   "execution_count": 60,
   "metadata": {
    "collapsed": true
   },
   "outputs": [],
   "source": [
    "score = accuracy_score(y_test, predict)"
   ]
  },
  {
   "cell_type": "code",
   "execution_count": 61,
   "metadata": {},
   "outputs": [
    {
     "name": "stdout",
     "output_type": "stream",
     "text": [
      "1.0\n"
     ]
    }
   ],
   "source": [
    "print(score)"
   ]
  },
  {
   "cell_type": "code",
   "execution_count": 62,
   "metadata": {
    "collapsed": true
   },
   "outputs": [],
   "source": [
    "from sklearn.metrics import confusion_matrix"
   ]
  },
  {
   "cell_type": "code",
   "execution_count": 63,
   "metadata": {},
   "outputs": [
    {
     "data": {
      "text/plain": [
       "array([[3, 0],\n",
       "       [0, 1]])"
      ]
     },
     "execution_count": 63,
     "metadata": {},
     "output_type": "execute_result"
    }
   ],
   "source": [
    "confusion_matrix(y_test, predict)"
   ]
  },
  {
   "cell_type": "code",
   "execution_count": 64,
   "metadata": {
    "collapsed": true
   },
   "outputs": [],
   "source": [
    "from sklearn.model_selection import KFold"
   ]
  },
  {
   "cell_type": "code",
   "execution_count": 65,
   "metadata": {},
   "outputs": [
    {
     "data": {
      "text/plain": [
       "['__abstractmethods__',\n",
       " '__class__',\n",
       " '__delattr__',\n",
       " '__dict__',\n",
       " '__dir__',\n",
       " '__doc__',\n",
       " '__eq__',\n",
       " '__format__',\n",
       " '__ge__',\n",
       " '__getattribute__',\n",
       " '__gt__',\n",
       " '__hash__',\n",
       " '__init__',\n",
       " '__init_subclass__',\n",
       " '__le__',\n",
       " '__lt__',\n",
       " '__module__',\n",
       " '__ne__',\n",
       " '__new__',\n",
       " '__reduce__',\n",
       " '__reduce_ex__',\n",
       " '__repr__',\n",
       " '__setattr__',\n",
       " '__sizeof__',\n",
       " '__str__',\n",
       " '__subclasshook__',\n",
       " '__weakref__',\n",
       " '_abc_cache',\n",
       " '_abc_negative_cache',\n",
       " '_abc_negative_cache_version',\n",
       " '_abc_registry',\n",
       " '_iter_test_indices',\n",
       " '_iter_test_masks',\n",
       " 'get_n_splits',\n",
       " 'split']"
      ]
     },
     "execution_count": 65,
     "metadata": {},
     "output_type": "execute_result"
    }
   ],
   "source": [
    "dir(KFold)"
   ]
  },
  {
   "cell_type": "code",
   "execution_count": 67,
   "metadata": {
    "collapsed": true
   },
   "outputs": [],
   "source": [
    "kfold = KFold(n_splits=10)"
   ]
  },
  {
   "cell_type": "code",
   "execution_count": 68,
   "metadata": {
    "collapsed": true
   },
   "outputs": [],
   "source": [
    "from sklearn.model_selection import cross_val_score"
   ]
  },
  {
   "cell_type": "code",
   "execution_count": 69,
   "metadata": {},
   "outputs": [
    {
     "data": {
      "text/plain": [
       "array([ 0.93333333,  0.93333333,  1.        ,  0.93333333,  1.        ,\n",
       "        1.        ,  0.92857143,  0.92857143,  1.        ,  1.        ])"
      ]
     },
     "execution_count": 69,
     "metadata": {},
     "output_type": "execute_result"
    }
   ],
   "source": [
    "cross_val_score(knn, X_train, y_train, cv=kfold)"
   ]
  },
  {
   "cell_type": "code",
   "execution_count": 70,
   "metadata": {
    "collapsed": true
   },
   "outputs": [],
   "source": [
    "from sklearn.model_selection import GridSearchCV"
   ]
  },
  {
   "cell_type": "code",
   "execution_count": 73,
   "metadata": {},
   "outputs": [],
   "source": [
    "knn = KNeighborsClassifier()\n",
    "param = {'n_neighbors' : [1,2,3,4,5,6,7,8,9]}\n",
    "grid = GridSearchCV(knn, param)"
   ]
  },
  {
   "cell_type": "code",
   "execution_count": 75,
   "metadata": {},
   "outputs": [
    {
     "data": {
      "text/plain": [
       "GridSearchCV(cv=None, error_score='raise',\n",
       "       estimator=KNeighborsClassifier(algorithm='auto', leaf_size=30, metric='minkowski',\n",
       "           metric_params=None, n_jobs=1, n_neighbors=5, p=2,\n",
       "           weights='uniform'),\n",
       "       fit_params={}, iid=True, n_jobs=1,\n",
       "       param_grid={'n_neighbors': [1, 2, 3, 4, 5, 6, 7, 8, 9]},\n",
       "       pre_dispatch='2*n_jobs', refit=True, return_train_score=True,\n",
       "       scoring=None, verbose=0)"
      ]
     },
     "execution_count": 75,
     "metadata": {},
     "output_type": "execute_result"
    }
   ],
   "source": [
    "grid.fit(load_iris().data, load_iris().target)"
   ]
  },
  {
   "cell_type": "code",
   "execution_count": 76,
   "metadata": {},
   "outputs": [
    {
     "data": {
      "text/plain": [
       "{'n_neighbors': 5}"
      ]
     },
     "execution_count": 76,
     "metadata": {},
     "output_type": "execute_result"
    }
   ],
   "source": [
    "grid.best_params_"
   ]
  },
  {
   "cell_type": "code",
   "execution_count": 77,
   "metadata": {},
   "outputs": [
    {
     "data": {
      "text/plain": [
       "0.98666666666666669"
      ]
     },
     "execution_count": 77,
     "metadata": {},
     "output_type": "execute_result"
    }
   ],
   "source": [
    "grid.best_score_"
   ]
  },
  {
   "cell_type": "code",
   "execution_count": 78,
   "metadata": {},
   "outputs": [
    {
     "data": {
      "text/plain": [
       "KNeighborsClassifier(algorithm='auto', leaf_size=30, metric='minkowski',\n",
       "           metric_params=None, n_jobs=1, n_neighbors=5, p=2,\n",
       "           weights='uniform')"
      ]
     },
     "execution_count": 78,
     "metadata": {},
     "output_type": "execute_result"
    }
   ],
   "source": [
    "grid.best_estimator_"
   ]
  },
  {
   "cell_type": "markdown",
   "metadata": {},
   "source": [
    "# Part2!"
   ]
  },
  {
   "cell_type": "code",
   "execution_count": 87,
   "metadata": {
    "collapsed": true
   },
   "outputs": [],
   "source": [
    "from sklearn.linear_model import LogisticRegression\n",
    "from sklearn.neighbors import KNeighborsClassifier"
   ]
  },
  {
   "cell_type": "code",
   "execution_count": 80,
   "metadata": {
    "collapsed": true
   },
   "outputs": [],
   "source": [
    "from sklearn.svm import SVC"
   ]
  },
  {
   "cell_type": "code",
   "execution_count": 81,
   "metadata": {
    "collapsed": true
   },
   "outputs": [],
   "source": [
    "from sklearn.tree import DecisionTreeClassifier"
   ]
  },
  {
   "cell_type": "code",
   "execution_count": 90,
   "metadata": {
    "collapsed": true
   },
   "outputs": [],
   "source": [
    "from sklearn.model_selection import KFold\n",
    "from sklearn.model_selection import cross_val_score\n",
    "from sklearn.datasets import load_iris\n",
    "\n",
    "from sklearn.model_selection import train_test_split"
   ]
  },
  {
   "cell_type": "code",
   "execution_count": 92,
   "metadata": {
    "collapsed": true
   },
   "outputs": [],
   "source": [
    "data = load_iris()\n",
    "X_trina, X_test, y_trian, y_test = train_test_split(data.data, data.target, test_size=0.4, random_state=1)"
   ]
  },
  {
   "cell_type": "code",
   "execution_count": 93,
   "metadata": {
    "collapsed": true
   },
   "outputs": [],
   "source": [
    "models = []"
   ]
  },
  {
   "cell_type": "code",
   "execution_count": 94,
   "metadata": {
    "collapsed": true
   },
   "outputs": [],
   "source": [
    "models.append(('LR', LogisticRegression()))\n",
    "models.append(('KNN', KNeighborsClassifier()))\n",
    "models.append(('SVM', SVC()))\n",
    "models.append(('Decision', DecisionTreeClassifier()))"
   ]
  },
  {
   "cell_type": "code",
   "execution_count": 95,
   "metadata": {
    "collapsed": true
   },
   "outputs": [],
   "source": [
    "results=[]\n",
    "names=[]"
   ]
  },
  {
   "cell_type": "code",
   "execution_count": 122,
   "metadata": {},
   "outputs": [
    {
     "name": "stdout",
     "output_type": "stream",
     "text": [
      "LR, 0.951905\n",
      "KNN, 0.965714\n",
      "SVM, 0.972381\n",
      "Decision, 0.958571\n"
     ]
    }
   ],
   "source": [
    "for name, model in models:\n",
    "    kfold = KFold(n_splits=10)\n",
    "    cvresult = cross_val_score(model,X_train, y_train, cv=kfold, scoring='accuracy')\n",
    "    results.append(cvresult)\n",
    "    names.append(name)\n",
    "    msg = \"%s, %f\" %(name, cvresult.mean())\n",
    "    print(msg)"
   ]
  },
  {
   "cell_type": "code",
   "execution_count": 99,
   "metadata": {
    "collapsed": true
   },
   "outputs": [],
   "source": [
    "import matplotlib.pyplot as plt"
   ]
  },
  {
   "cell_type": "code",
   "execution_count": 119,
   "metadata": {},
   "outputs": [
    {
     "data": {
      "text/plain": [
       "<matplotlib.figure.Figure at 0x12edcb70>"
      ]
     },
     "metadata": {},
     "output_type": "display_data"
    }
   ],
   "source": [
    "fig = plt.figure()"
   ]
  },
  {
   "cell_type": "code",
   "execution_count": null,
   "metadata": {
    "collapsed": true
   },
   "outputs": [],
   "source": []
  }
 ],
 "metadata": {
  "kernelspec": {
   "display_name": "Python 3",
   "language": "python",
   "name": "python3"
  },
  "language_info": {
   "codemirror_mode": {
    "name": "ipython",
    "version": 3
   },
   "file_extension": ".py",
   "mimetype": "text/x-python",
   "name": "python",
   "nbconvert_exporter": "python",
   "pygments_lexer": "ipython3",
   "version": "3.6.1"
  }
 },
 "nbformat": 4,
 "nbformat_minor": 2
}
